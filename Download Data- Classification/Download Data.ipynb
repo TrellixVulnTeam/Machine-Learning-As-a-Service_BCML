{
 "cells": [
  {
   "cell_type": "code",
   "execution_count": 27,
   "metadata": {
    "collapsed": false
   },
   "outputs": [],
   "source": [
    "import pandas as pd\n",
    "import numpy as np\n",
    "import os, csv\n",
    "from sklearn import preprocessing, cross_validation"
   ]
  },
  {
   "cell_type": "code",
   "execution_count": 28,
   "metadata": {
    "collapsed": false
   },
   "outputs": [],
   "source": [
    "trainQ = \"Q11999\"\n",
    "testQ = \"Q21999\""
   ]
  },
  {
   "cell_type": "code",
   "execution_count": 24,
   "metadata": {
    "collapsed": false
   },
   "outputs": [
    {
     "name": "stderr",
     "output_type": "stream",
     "text": [
      "C:\\Users\\smits_000\\Anaconda3\\lib\\site-packages\\IPython\\core\\interactiveshell.py:2821: DtypeWarning: Columns (7,14) have mixed types. Specify dtype option on import or set low_memory=False.\n",
      "  if self.run_code(code, result):\n",
      "C:\\Users\\smits_000\\Anaconda3\\lib\\site-packages\\IPython\\core\\interactiveshell.py:2821: DtypeWarning: Columns (3,7,14) have mixed types. Specify dtype option on import or set low_memory=False.\n",
      "  if self.run_code(code, result):\n"
     ]
    }
   ],
   "source": [
    "def load_df(quarter1,quarter2):  \n",
    "    foldername= 'data_part2'\n",
    "    historical_path= str(os.getcwd())+\"\\\\\"+ foldername\n",
    "    train_path= historical_path+\"\\historical_data1_time_\"+str(trainQ)+\".txt\"\n",
    "    test_path= historical_path+\"\\historical_data1_time_\"+str(testQ)+\".txt\"\n",
    "    global train_df\n",
    "    global test_df\n",
    "    column_names=['loan_seq_number', 'month', 'current_actual_upb', 'delq_status','loan_age', 'rem_months', 'repurchase_flag', 'modification_flag', 'zero_balance_code',\n",
    "                      'zero_bal_date', 'current_int_rate', 'current_def_upb', 'ddlpi', 'mi_recoveries', 'net_sales_proceeds',\n",
    "                      'non_mi_recoveries', 'expenses', 'legal_costs', 'maint_pres_costs', 'taxes_ins', 'misc_expenses',\n",
    "                      'actual_loss_calc', 'modification_cost']\n",
    "    \n",
    "    train_df = pd.read_table(os.path.join(train_path), \n",
    "                        delimiter='|', names=column_names, index_col=None, nrows=1048576, usecols=list(np.arange(23)))\n",
    "    test_df = pd.read_table(os.path.join(test_path), \n",
    "                        delimiter='|', names=column_names, index_col=None, nrows=1048576, usecols=list(np.arange(23)))\n",
    "   \n",
    "    \n",
    "load_df(trainQ, testQ)\n",
    "\n",
    "    \n",
    "def cleandf(df):\n",
    "    df.delq_status = df.delq_status.replace('R', '1').astype('float64')\n",
    "    df.rem_months = df.rem_months.replace(np.nan, 0)\n",
    "    df.rem_months = df.rem_months.astype('category')\n",
    "    df.repurchase_flag = df.repurchase_flag.replace(np.nan, 0)\n",
    "    df.repurchase_flag = df.repurchase_flag.astype('category')\n",
    "    df.modification_flag = df.modification_flag.replace(np.nan, 0)\n",
    "    df.modification_flag = df.modification_flag.astype('category')\n",
    "    df.zero_balance_code = df.zero_balance_code.replace(np.nan, 0)\n",
    "    df.zero_balance_code = df.zero_balance_code.astype('category')\n",
    "    df.zero_bal_date = df.zero_bal_date.replace(np.nan, 0)\n",
    "    df.zero_bal_date = df.zero_bal_date.astype('category')\n",
    "    df.current_def_upb = df.current_def_upb.replace(np.nan, 0)\n",
    "    df.current_def_upb = df.current_def_upb.astype('category')\n",
    "    df.ddlpi = df.ddlpi.replace(np.nan, 0)\n",
    "    df.ddlpi = df.ddlpi.astype('category')\n",
    "    df.mi_recoveries = df.mi_recoveries.replace(np.nan, 0)\n",
    "    df.net_sales_proceeds = df.net_sales_proceeds.replace(np.nan, 0)\n",
    "    df.net_sales_proceeds = df.net_sales_proceeds.replace('C', 1)\n",
    "    df.net_sales_proceeds = df.net_sales_proceeds.replace('U', 0)\n",
    "    df.net_sales_proceeds.astype('float64')\n",
    "    df.non_mi_recoveries = df.non_mi_recoveries.replace(np.nan, 0)\n",
    "    df.expenses = df.expenses.replace(np.nan, 0)\n",
    "    df.legal_costs = df.legal_costs.replace(np.nan, 0)\n",
    "    df.maint_pres_costs = df.maint_pres_costs.replace(np.nan, 0)\n",
    "    df.taxes_ins = df.taxes_ins.replace(np.nan, 0)\n",
    "    df.misc_expenses = df.misc_expenses.replace(np.nan, 0)\n",
    "    df.actual_loss_calc = df.actual_loss_calc.replace(np.nan, 0)\n",
    "    df.modification_cost = df.modification_cost.replace(np.nan, 0)\n",
    "\n",
    "cleandf(train_df)\n",
    "cleandf(test_df)"
   ]
  },
  {
   "cell_type": "code",
   "execution_count": 25,
   "metadata": {
    "collapsed": true
   },
   "outputs": [],
   "source": [
    "def f(row):\n",
    "    if row['delq_status'] > 0:\n",
    "        val = 1\n",
    "    else:\n",
    "        val = 0\n",
    "    return val\n",
    "    \n",
    "#Create dummy variables\n",
    "train_df_dummies = pd.get_dummies(train_df[['repurchase_flag', 'modification_flag']])\n",
    "test_df_dummies = pd.get_dummies(test_df[['repurchase_flag', 'modification_flag']])\n",
    "\n",
    "dropped_train_df = train_df.drop(['loan_seq_number','repurchase_flag', 'modification_flag'],axis=1)\n",
    "dropped_test_df = test_df.drop(['loan_seq_number','repurchase_flag', 'modification_flag'],axis=1)\n",
    "\n",
    "global final_train_df\n",
    "global final_test_df\n",
    "final_train_df = pd.concat([dropped_train_df, train_df_dummies], axis=1)\n",
    "final_test_df = pd.concat([dropped_test_df, test_df_dummies], axis=1)\n",
    "\n",
    "#create target variable \n",
    "final_train_df['Deliquent'] = final_train_df.apply(f, axis=1)\n",
    "final_test_df['Deliquent'] = final_test_df.apply(f, axis=1)\n",
    "    "
   ]
  },
  {
   "cell_type": "code",
   "execution_count": 26,
   "metadata": {
    "collapsed": false
   },
   "outputs": [],
   "source": [
    "train_CSV = os.getcwd() + '\\\\train.csv'\n",
    "final_train_df.to_csv(train_CSV,index= False, encoding='utf-8')\n",
    "test_CSV = os.getcwd() + '\\\\test.csv'\n",
    "final_test_df.to_csv(test_CSV,index= False, encoding='utf-8')"
   ]
  }
 ],
 "metadata": {
  "anaconda-cloud": {},
  "kernelspec": {
   "display_name": "Python [default]",
   "language": "python",
   "name": "python3"
  },
  "language_info": {
   "codemirror_mode": {
    "name": "ipython",
    "version": 3
   },
   "file_extension": ".py",
   "mimetype": "text/x-python",
   "name": "python",
   "nbconvert_exporter": "python",
   "pygments_lexer": "ipython3",
   "version": "3.5.2"
  }
 },
 "nbformat": 4,
 "nbformat_minor": 1
}
